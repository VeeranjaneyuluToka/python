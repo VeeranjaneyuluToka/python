{
 "cells": [
  {
   "cell_type": "code",
   "execution_count": 19,
   "metadata": {},
   "outputs": [],
   "source": [
    "import numpy as np\n",
    "import random\n",
    "import cv2 as cv"
   ]
  },
  {
   "cell_type": "code",
   "execution_count": 29,
   "metadata": {},
   "outputs": [
    {
     "name": "stdout",
     "output_type": "stream",
     "text": [
      "float64\n",
      "float64\n",
      "original matrix\n",
      "[[[255. 144. 128.]\n",
      "  [255. 144. 212.]\n",
      "  [162. 221. 204.]\n",
      "  [272. 212. 136.]\n",
      "  [255. 128. 144.]]\n",
      "\n",
      " [[264. 255. 212.]\n",
      "  [136. 170. 221.]\n",
      "  [144. 212. 187.]\n",
      "  [170. 280. 212.]\n",
      "  [170. 128. 196.]]\n",
      "\n",
      " [[204. 178. 212.]\n",
      "  [212. 170. 187.]\n",
      "  [289. 178. 144.]\n",
      "  [187. 204. 187.]\n",
      "  [153. 196. 144.]]\n",
      "\n",
      " [[136. 246. 136.]\n",
      "  [264. 255. 128.]\n",
      "  [280. 136. 178.]\n",
      "  [196. 128. 187.]\n",
      "  [246. 255. 204.]]\n",
      "\n",
      " [[246. 178. 170.]\n",
      "  [178. 162. 128.]\n",
      "  [144. 178. 187.]\n",
      "  [272. 128. 187.]\n",
      "  [153. 264. 289.]]]\n",
      "matrix with -1 index\n",
      "[[[128. 144. 255.]\n",
      "  [212. 144. 255.]\n",
      "  [204. 221. 162.]\n",
      "  [136. 212. 272.]\n",
      "  [144. 128. 255.]]\n",
      "\n",
      " [[212. 255. 264.]\n",
      "  [221. 170. 136.]\n",
      "  [187. 212. 144.]\n",
      "  [212. 280. 170.]\n",
      "  [196. 128. 170.]]\n",
      "\n",
      " [[212. 178. 204.]\n",
      "  [187. 170. 212.]\n",
      "  [144. 178. 289.]\n",
      "  [187. 204. 187.]\n",
      "  [144. 196. 153.]]\n",
      "\n",
      " [[136. 246. 136.]\n",
      "  [128. 255. 264.]\n",
      "  [178. 136. 280.]\n",
      "  [187. 128. 196.]\n",
      "  [204. 255. 246.]]\n",
      "\n",
      " [[170. 178. 246.]\n",
      "  [128. 162. 178.]\n",
      "  [187. 178. 144.]\n",
      "  [187. 128. 272.]\n",
      "  [289. 264. 153.]]]\n",
      "matrix with 0 slice\n",
      "[[255. 255. 162. 272. 255.]\n",
      " [264. 136. 144. 170. 170.]\n",
      " [204. 212. 289. 187. 153.]\n",
      " [136. 264. 280. 196. 246.]\n",
      " [246. 178. 144. 272. 153.]]\n"
     ]
    }
   ],
   "source": [
    "flow = np.random.randint(0, 20, (5, 5, 3))\n",
    "bound = 15\n",
    "flow = np.round((flow+bound)/(2.*bound)*255.)\n",
    "print(flow.dtype)\n",
    "img_n = cv2.normalize(src=flow, dst=None, alpha=0, beta=255, norm_type=cv2.NORM_MINMAX, dtype=cv2.CV_8U)\n",
    "flow.astype(np.uint8)\n",
    "print(flow.dtype)\n",
    "print(\"original matrix\")\n",
    "print(flow)\n",
    "print(\"matrix with -1 index\")\n",
    "print(flow[:,:,::-1])\n",
    "print(\"matrix with 0 slice\")\n",
    "print(flow[:,:,0])"
   ]
  }
 ],
 "metadata": {
  "kernelspec": {
   "display_name": "Python 3",
   "language": "python",
   "name": "python3"
  },
  "language_info": {
   "codemirror_mode": {
    "name": "ipython",
    "version": 3
   },
   "file_extension": ".py",
   "mimetype": "text/x-python",
   "name": "python",
   "nbconvert_exporter": "python",
   "pygments_lexer": "ipython3",
   "version": "3.7.6"
  }
 },
 "nbformat": 4,
 "nbformat_minor": 4
}
