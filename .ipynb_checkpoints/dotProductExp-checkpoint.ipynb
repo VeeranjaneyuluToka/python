{
 "cells": [
  {
   "cell_type": "code",
   "execution_count": 1,
   "metadata": {},
   "outputs": [],
   "source": [
    "import numpy as np\n",
    "from sklearn.metrics.pairwise import cosine_similarity"
   ]
  },
  {
   "cell_type": "code",
   "execution_count": 2,
   "metadata": {},
   "outputs": [
    {
     "name": "stdout",
     "output_type": "stream",
     "text": [
      "[[0.18257419 0.36514837 0.54772256 0.73029674]\n",
      " [0.37904902 0.45485883 0.53066863 0.60647843]\n",
      " [0.42616235 0.47351372 0.5208651  0.56821647]\n",
      " [0.44694921 0.48132991 0.51571062 0.55009133]]\n"
     ]
    }
   ],
   "source": [
    "src_mat = np.random.rand(5, 10)\n",
    "src_mat = np.array([[1, 2, 3, 4],\n",
    "                  [5, 6, 7, 8],\n",
    "                  [9, 10, 11, 12],\n",
    "                  [13, 14, 15, 16]])\n",
    "\n",
    "smNormCol = np.linalg.norm(src_mat, axis=0) # Column wise norm\n",
    "smNormRow = np.linalg.norm(src_mat, axis=1) # Row wise norm\n",
    "\n",
    "normSrcMat = np.divide(src_mat, smNormRow[:, None])\n",
    "print(normSrcMat)"
   ]
  },
  {
   "cell_type": "code",
   "execution_count": 3,
   "metadata": {},
   "outputs": [
    {
     "name": "stdout",
     "output_type": "stream",
     "text": [
      "(2, 4)\n",
      "[[0.37904902 0.45485883 0.53066863 0.60647843]\n",
      " [0.42616235 0.47351372 0.5208651  0.56821647]]\n"
     ]
    }
   ],
   "source": [
    "dst_mat = np.random.rand(2, 10)\n",
    "dst_mat = np.array([[5, 6, 7, 8],\n",
    "                  [9, 10, 11, 12]])\n",
    "print(dst_mat.shape)\n",
    "dmNormCol = np.linalg.norm(dst_mat, axis=0) # Column wise norm\n",
    "dmNormRow = np.linalg.norm(dst_mat, axis=1) # Row wise norm\n",
    "\n",
    "normDstMat = np.divide(dst_mat, dmNormRow[:, None])\n",
    "print(normDstMat)"
   ]
  },
  {
   "cell_type": "code",
   "execution_count": 89,
   "metadata": {},
   "outputs": [
    {
     "name": "stdout",
     "output_type": "stream",
     "text": [
      "[[0.96886393 0.95096521]\n",
      " [1.         0.99793612]\n",
      " [0.99793612 1.        ]\n",
      " [0.9956428  0.99957586]]\n"
     ]
    }
   ],
   "source": [
    "#individually normalized\n",
    "normSrcDstMul = np.matmul(normSrcMat, normDstMat.T)\n",
    "print(normSrcDstMul)"
   ]
  },
  {
   "cell_type": "code",
   "execution_count": 3,
   "metadata": {},
   "outputs": [
    {
     "name": "stdout",
     "output_type": "stream",
     "text": [
      "((3,), (3,))\n",
      "3.7416573867739413\n",
      "3.7416573867739413\n",
      "1.0\n",
      "[[1.]]\n"
     ]
    }
   ],
   "source": [
    "#cosine similarity with 1d vector\n",
    "vectorA = np.array([1, 2, 3])\n",
    "vectorB = np.array([1, 2, 3])\n",
    "print(vectorA.shape, vectorB.shape)\n",
    "\n",
    "dot = np.dot(vectorA, vectorB)\n",
    "\n",
    "normA = np.linalg.norm(vectorA)\n",
    "print(normA)\n",
    "normB = np.linalg.norm(vectorB)\n",
    "print(normB)\n",
    "\n",
    "cos = dot/(normA*normB)\n",
    "print(cos)\n",
    "\n",
    "aa = vectorA.reshape(1, 3)\n",
    "bb = vectorB.reshape(1, 3)\n",
    "cos_lib = cosine_similarity(aa, bb)\n",
    "print(cos_lib)"
   ]
  }
 ],
 "metadata": {
  "kernelspec": {
   "display_name": "Python 2",
   "language": "python",
   "name": "python2"
  },
  "language_info": {
   "codemirror_mode": {
    "name": "ipython",
    "version": 2
   },
   "file_extension": ".py",
   "mimetype": "text/x-python",
   "name": "python",
   "nbconvert_exporter": "python",
   "pygments_lexer": "ipython2",
   "version": "2.7.15rc1"
  }
 },
 "nbformat": 4,
 "nbformat_minor": 2
}
