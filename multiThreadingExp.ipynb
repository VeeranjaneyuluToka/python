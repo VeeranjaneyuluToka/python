{
 "cells": [
  {
   "cell_type": "code",
   "execution_count": 2,
   "metadata": {},
   "outputs": [],
   "source": [
    "import os\n",
    "import requests, time"
   ]
  },
  {
   "cell_type": "code",
   "execution_count": 15,
   "metadata": {},
   "outputs": [],
   "source": [
    "def download_site(url, sess):\n",
    "    with sess.get(url) as response:\n",
    "        print(\"Read len(response.content): {} from {}\".format(len(response.content), url))"
   ]
  },
  {
   "cell_type": "code",
   "execution_count": 22,
   "metadata": {},
   "outputs": [],
   "source": [
    "def download_all_sites_ST(sites):\n",
    "    with requests.Session() as sess:\n",
    "        for url in sites:\n",
    "            download_site(url, sess)"
   ]
  },
  {
   "cell_type": "code",
   "execution_count": 23,
   "metadata": {},
   "outputs": [
    {
     "name": "stdout",
     "output_type": "stream",
     "text": [
      "Read len(response.content): 10286 from https://www.jython.org\n",
      "Read len(response.content): 277 from http://olympus.realpython.org/dice\n",
      "Download sites len:2 in duration: 0.586657047272 seconds\n"
     ]
    }
   ],
   "source": [
    "if __name__ == '__main__':\n",
    "    sites = [\"https://www.jython.org\", \"http://olympus.realpython.org/dice\",]\n",
    "    \n",
    "    start_time = time.time()\n",
    "    download_all_sites_ST(sites)\n",
    "    duration = time.time()-start_time\n",
    "    print(\"Download sites len:{} in duration: {} seconds\".format(len(sites), duration))"
   ]
  },
  {
   "cell_type": "code",
   "execution_count": 13,
   "metadata": {},
   "outputs": [],
   "source": [
    "#threading version\n",
    "import concurrent.futures\n",
    "import requests\n",
    "import threading\n",
    "import time\n",
    "import Queue\n",
    "import urllib2"
   ]
  },
  {
   "cell_type": "code",
   "execution_count": 2,
   "metadata": {},
   "outputs": [],
   "source": [
    "thread_local = threading.local"
   ]
  },
  {
   "cell_type": "code",
   "execution_count": 3,
   "metadata": {},
   "outputs": [],
   "source": [
    "def get_session():\n",
    "    if not hasattr(thread_local, \"session\"):\n",
    "        thread_local.session = requests.Session()\n",
    "    return thread_local.session"
   ]
  },
  {
   "cell_type": "code",
   "execution_count": 4,
   "metadata": {},
   "outputs": [],
   "source": [
    "def download_site(url):\n",
    "    sess = get_session()\n",
    "    with sess.get(url) as response:\n",
    "        print(\"Read len res.content: {} from {}\".format(len(response.content), url))"
   ]
  },
  {
   "cell_type": "code",
   "execution_count": 5,
   "metadata": {},
   "outputs": [],
   "source": [
    "def download_all_sites_MT(sites):\n",
    "    with concurrent.futures.ThreadPoolExecutor(max_workers=5) as executor:\n",
    "        executor.map(download_site, sites)"
   ]
  },
  {
   "cell_type": "code",
   "execution_count": 6,
   "metadata": {},
   "outputs": [
    {
     "name": "stdout",
     "output_type": "stream",
     "text": [
      "Download sites len:2 in duration: 0.00809788703918 seconds\n"
     ]
    }
   ],
   "source": [
    "if __name__ == '__main__':\n",
    "    sites = [\"https://www.jython.org\", \"http://olympus.realpython.org/dice\",]\n",
    "    \n",
    "    start_time = time.time()\n",
    "    download_all_sites_MT(sites)\n",
    "    duration = time.time()-start_time\n",
    "    print(\"Download sites len:{} in duration: {} seconds\".format(len(sites), duration))"
   ]
  },
  {
   "cell_type": "code",
   "execution_count": 4,
   "metadata": {},
   "outputs": [],
   "source": [
    "class consumer(threading.Thread):\n",
    "    def __init__(self, queue):\n",
    "        threading.Thread.__init__(self)\n",
    "        self._queue = queue\n",
    "        \n",
    "    def run(self):\n",
    "        while True:\n",
    "            msg = self._queue.get()\n",
    "            if isinstance(msg, str) and msg == 'quit':\n",
    "                break\n",
    "            print(\"i am a thread, and i received %s!!\", msg)\n",
    "            \n",
    "        print(\"bye bye!\")"
   ]
  },
  {
   "cell_type": "code",
   "execution_count": 11,
   "metadata": {},
   "outputs": [],
   "source": [
    "def producer():\n",
    "    queue = Queue.Queue()\n",
    "    \n",
    "    worker = consumer(queue)\n",
    "    \n",
    "    print(\"before start\")\n",
    "    worker.start()\n",
    "    print(\"after start\")\n",
    "    \n",
    "    start_time = time.time()\n",
    "    \n",
    "    while time.time() - start_time < 5:\n",
    "        queue.put(\"something at %s\"% time.time())\n",
    "        time.sleep(1)\n",
    "        \n",
    "    queue.put('quit')\n",
    "    worker.join()"
   ]
  },
  {
   "cell_type": "code",
   "execution_count": 12,
   "metadata": {},
   "outputs": [
    {
     "name": "stdout",
     "output_type": "stream",
     "text": [
      "before start\n",
      "after start\n",
      "('i am a thread, and i received %s!!', 'something at 1576059347.67')\n",
      "('i am a thread, and i received %s!!', 'something at 1576059348.67')\n",
      "('i am a thread, and i received %s!!', 'something at 1576059349.67')\n",
      "('i am a thread, and i received %s!!', 'something at 1576059350.67')\n",
      "('i am a thread, and i received %s!!', 'something at 1576059351.67')\n",
      "bye bye!\n"
     ]
    }
   ],
   "source": [
    "if __name__ == '__main__':\n",
    "    producer()"
   ]
  },
  {
   "cell_type": "code",
   "execution_count": 20,
   "metadata": {},
   "outputs": [],
   "source": [
    "class urlConsumer(threading.Thread):\n",
    "    def __init__(self, queue):\n",
    "        threading.Thread.__init__(self)\n",
    "        self._queue = queue\n",
    "        \n",
    "    def run(self):\n",
    "        while True:\n",
    "            content = self._queue.get()\n",
    "            if isinstance(content, str) and content == 'quit':\n",
    "                break\n",
    "            response = urllib2.urlopen(content)\n",
    "            print(response)\n",
    "            \n",
    "        print('bye bye')"
   ]
  },
  {
   "cell_type": "code",
   "execution_count": 17,
   "metadata": {},
   "outputs": [],
   "source": [
    "def producer():\n",
    "    urls = ['http://www.python.org', 'http://www.yahoo.com', 'http://www.scala.org', 'http://www.google.com']\n",
    "    queue = Queue.Queue()\n",
    "    worker_threads = build_worker_pool(queue, 4)\n",
    "    start_time = time.time()\n",
    "    \n",
    "    for url in urls:\n",
    "        queue.put(url)\n",
    "        \n",
    "    for worker in worker_threads:\n",
    "        queue.put('quit')\n",
    "        \n",
    "    for worker in worker_threads:\n",
    "        worker.join()\n",
    "        \n",
    "    print(\"Done! time taker: {}\".format(time.time()-start_time))"
   ]
  },
  {
   "cell_type": "code",
   "execution_count": 18,
   "metadata": {},
   "outputs": [],
   "source": [
    "def build_worker_pool(queue, size):\n",
    "    workers = []\n",
    "    for _ in range(size):\n",
    "        worker = urlConsumer(queue)\n",
    "        worker.start()\n",
    "        workers.append(worker)\n",
    "    return workers"
   ]
  },
  {
   "cell_type": "code",
   "execution_count": 21,
   "metadata": {},
   "outputs": [
    {
     "name": "stdout",
     "output_type": "stream",
     "text": [
      "<addinfourl at 140504890647256 whose fp = <socket._fileobject object at 0x7fc9df83c4d0>>\n",
      "bye bye\n",
      "<addinfourl at 140504890648120 whose fp = <socket._fileobject object at 0x7fc9df83c150>>\n",
      "bye bye\n",
      "<addinfourl at 140504890648192 whose fp = <socket._fileobject object at 0x7fc9df80d6d0>>\n",
      "bye bye\n",
      "<addinfourl at 140504890649272 whose fp = <socket._fileobject object at 0x7fc9df83c4d0>>\n",
      "bye bye\n",
      "Done! time taker: 0.49712896347\n"
     ]
    }
   ],
   "source": [
    "if __name__ == '__main__':\n",
    "    producer()"
   ]
  }
 ],
 "metadata": {
  "kernelspec": {
   "display_name": "Python 2",
   "language": "python",
   "name": "python2"
  },
  "language_info": {
   "codemirror_mode": {
    "name": "ipython",
    "version": 2
   },
   "file_extension": ".py",
   "mimetype": "text/x-python",
   "name": "python",
   "nbconvert_exporter": "python",
   "pygments_lexer": "ipython2",
   "version": "2.7.15rc1"
  }
 },
 "nbformat": 4,
 "nbformat_minor": 2
}
